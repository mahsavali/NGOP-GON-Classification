{
 "cells": [
  {
   "cell_type": "markdown",
   "metadata": {
    "id": "K-0LiW-4HmAE"
   },
   "source": [
    "prepare data for K-fold\n"
   ]
  },
  {
   "cell_type": "code",
   "execution_count": null,
   "metadata": {
    "colab": {
     "base_uri": "https://localhost:8080/"
    },
    "id": "aXaJ9oy0NbhY",
    "outputId": "5c187321-c8ba-40e5-8bbc-7d5e840bf071"
   },
   "outputs": [
    {
     "name": "stdout",
     "output_type": "stream",
     "text": [
      "rm: cannot remove 'kfold_data': No such file or directory\n",
      "copy kfold file 450/450"
     ]
    }
   ],
   "source": [
    "import os\n",
    "import shutil\n",
    "import sys\n",
    "import cv2\n",
    "import pandas as pd\n",
    "import numpy as np\n",
    "from sklearn.model_selection import train_test_split\n",
    "from tensorflow.keras.utils import to_categorical\n",
    "\n",
    "def make_directory(dir_path):\n",
    "    if not(os.path.isdir(dir_path)):\n",
    "        os.mkdir(dir_path)\n",
    "\n",
    "class_label_dict= {\"GON\":0, \"Healthy\": 1, \"NGOP\": 2}\n",
    "class_label= [\"GON\", \"Healthy\", \"NGOP\"]\n",
    "path= \"/.../FundasDataset/classification/\"\n",
    "\n",
    "all_samples= []\n",
    "for dir_path, subdirs, files in os.walk(path):\n",
    "    for name in files:\n",
    "        all_samples.append(dir_path)\n",
    "samples= list(dict.fromkeys(all_samples))\n",
    "\n",
    "!rm -r kfold_data\n",
    "\n",
    "for root in [\"kfold_data/\"]:\n",
    "    make_directory(root)\n",
    "    for label in class_label:\n",
    "        make_directory(root+label)\n",
    "\n",
    "################################\n",
    "#copy test files and create dataframe\n",
    "data= []\n",
    "label= []\n",
    "counter= 1\n",
    "for directory in samples:\n",
    "    sub_files= os.listdir(directory)\n",
    "    for f in sub_files:\n",
    "        files= directory.split('/')\n",
    "        data.append('kfold_data/' + files[-2] + '/' + f)\n",
    "        label.append(files[-2])\n",
    "        shutil.copy(os.path.join(directory, f), 'kfold_data/' + files[-2] + '/' + f)\n",
    "        sys.stdout.write('\\r')\n",
    "        sys.stdout.write(\"\\rcopy kfold file {}/{}\".format(counter, len(samples)))\n",
    "        sys.stdout.flush()\n",
    "    counter+=1\n",
    "df = pd.DataFrame(list(zip(data, label)), columns =['filename', 'label'])\n"
   ]
  }
 ],
 "metadata": {
  "accelerator": "GPU",
  "colab": {
   "collapsed_sections": [],
   "name": "FundusClassification.ipynb",
   "provenance": []
  },
  "kernelspec": {
   "display_name": "Python 3",
   "language": "python",
   "name": "python3"
  },
  "language_info": {
   "codemirror_mode": {
    "name": "ipython",
    "version": 3
   },
   "file_extension": ".py",
   "mimetype": "text/x-python",
   "name": "python",
   "nbconvert_exporter": "python",
   "pygments_lexer": "ipython3",
   "version": "3.6.13"
  }
 },
 "nbformat": 4,
 "nbformat_minor": 1
}
