{
 "cells": [
  {
   "cell_type": "markdown",
   "metadata": {},
   "source": [
    "# Load All Fundus Image"
   ]
  },
  {
   "cell_type": "code",
   "execution_count": null,
   "metadata": {
    "colab": {
     "base_uri": "https://localhost:8080/"
    },
    "id": "mmRjQGxaE9v3",
    "outputId": "c23a52a7-2ea2-417e-e06c-4297a467758f"
   },
   "outputs": [
    {
     "name": "stderr",
     "output_type": "stream",
     "text": [
      "100%|██████████| 3/3 [00:00<00:00, 254.74it/s]\n"
     ]
    }
   ],
   "source": [
    "import numpy as np\n",
    "import matplotlib.pyplot as plt\n",
    "import matplotlib.image as mpimg\n",
    "import cv2 as cv\n",
    "import os\n",
    "from sklearn.model_selection import train_test_split\n",
    "from tqdm import tqdm\n",
    "\n",
    "root =   '/.../FundasDataset/classification'\n",
    "folders = os.listdir(root)  # folders name\n",
    "\n",
    "\n",
    "path=[]\n",
    "for idx, folder in tqdm(enumerate(folders), total=len(folders)):\n",
    "        sub_dir_path = os.path.join(root, folder)  # every folder path\n",
    "        images_names = os.listdir(sub_dir_path)  # list of all image name in one of inner folder\n",
    "        for image_name in images_names:\n",
    "            image_path = os.path.join(sub_dir_path, image_name)\n",
    "            path.append(image_path)  \n",
    "\n"
   ]
  },
  {
   "cell_type": "code",
   "execution_count": null,
   "metadata": {
    "colab": {
     "base_uri": "https://localhost:8080/"
    },
    "id": "GbdeC2f0Ju1i",
    "outputId": "bc509309-066b-4615-8683-cc35e981fb80"
   },
   "outputs": [
    {
     "name": "stderr",
     "output_type": "stream",
     "text": [
      "100%|██████████| 354/354 [11:51<00:00,  2.01s/it]\n",
      "100%|██████████| 89/89 [03:32<00:00,  2.39s/it]\n"
     ]
    }
   ],
   "source": [
    "train_images=[]\n",
    "train_label=[]\n",
    "for idx, folder in tqdm(enumerate(X_train), total=len(X_train)):\n",
    "        images_names = os.listdir(folder)\n",
    "        \n",
    "        for image_name in images_names:\n",
    "            \n",
    "            image_paths = os.path.join(folder,image_name)\n",
    "            if image_paths.find('pale'):\n",
    "               train_label.append(1)\n",
    "            if image_paths.find('glaucoma'):\n",
    "               train_label.append(2)\n",
    "            if image_paths.find('normal'):\n",
    "               train_label.append(3)\n",
    "            img = cv.imread(image_paths)\n",
    "            resized_img = cv.resize(img, dsize=(128, 128))\n",
    "            train_images.append(image_paths)\n",
    "########################### test ######################\n",
    "test_images=[]\n",
    "test_label=[]\n",
    "for idx, folder in tqdm(enumerate(X_test), total=len(X_test)):\n",
    "        test_images_names = os.listdir(folder)\n",
    "        \n",
    "        for test_image_name in test_images_names:\n",
    "            \n",
    "            test_image_paths = os.path.join(folder,test_image_name)\n",
    "            if test_image_paths.find('NGOP'):\n",
    "               test_label.append(1)\n",
    "            if test_image_paths.find('GON'):\n",
    "               test_label.append(2)\n",
    "            if test_image_paths.find('Healthy'):\n",
    "               test_label.append(3)\n",
    "            test_img = cv.imread(test_image_paths)\n",
    "            test_resized_img = cv.resize(test_img, dsize=(128, 128))\n",
    "            test_images.append(test_image_paths)"
   ]
  },
  {
   "cell_type": "markdown",
   "metadata": {
    "id": "sxNp-nLV4ljt"
   },
   "source": [
    "#Load and Extract **Data**"
   ]
  },
  {
   "cell_type": "code",
   "execution_count": null,
   "metadata": {
    "id": "JW9vH-BSr6Uu"
   },
   "outputs": [],
   "source": [
    "import os\n",
    "import cv2\n",
    "import numpy as np\n",
    "from sklearn.model_selection import train_test_split\n",
    "\n",
    "path= \"/.../FundasDataset/classification/\"\n",
    "\n",
    "img_width, img_height = 128, 128\n",
    "\n",
    "class_label= {\"GON\":1, \"Healthy\": 2, \"NGOP\": 3}\n",
    "\n",
    "all_samples= []\n",
    "for dir_path, subdirs, files in os.walk(path):\n",
    "    for name in files:\n",
    "        all_samples.append(dir_path)\n",
    "samples= list(dict.fromkeys(all_samples))\n",
    "samples_label= []\n",
    "for i in range(len(samples)):\n",
    "    label= samples[i].split('/')[6]\n",
    "    label= class_label[label]\n",
    "    samples_label.append(label)\n",
    "x_train, x_test, y_train, y_test = train_test_split(samples, samples_label, test_size=0.2, random_state=42)\n",
    "\n",
    "train_count= 0\n",
    "for directory in x_train:\n",
    "    sub_files= os.listdir(directory)\n",
    "    for f in sub_files:\n",
    "        train_count+= 1\n",
    "print(train_count)\n",
    "train_data= np.zeros((train_count, 128,128,3))\n",
    "train_label= np.zeros((train_count,1), dtype= 'int')\n",
    "\n",
    "test_count= 0\n",
    "for directory in x_test:\n",
    "    sub_files= os.listdir(directory)\n",
    "    for f in sub_files:\n",
    "        test_count+= 1\n",
    "print(test_count)\n",
    "test_data= np.zeros((test_count,128,128,3))\n",
    "test_label= np.zeros((test_count, 1), dtype='int')\n",
    "\n",
    "all_files = sum([len(files) for r, d, files in os.walk(path)])\n",
    "print(all_files)\n",
    "\n",
    "\n",
    "counter= 0\n",
    "for directory in x_train:\n",
    "    sub_files= os.listdir(directory)\n",
    "    for f in sub_files:\n",
    "        image= cv2.imread(os.path.join(directory, f))\n",
    "        image= cv2.cvtColor(image, cv2.COLOR_BGR2RGB)\n",
    "        image= cv2.resize(image, (img_width,img_height))\n",
    "        train_data[counter] = image[:]\n",
    "        label= directory.split('/')[6]\n",
    "        label= class_label[label]\n",
    "        train_label[counter]= label\n",
    "        print(\"train files {} / {}\". format(counter, train_count))\n",
    "        counter+=1\n",
    "\n",
    "counter= 0\n",
    "for directory in x_test:\n",
    "    sub_files= os.listdir(directory)\n",
    "    for f in sub_files:\n",
    "        image= cv2.imread(os.path.join(directory, f))\n",
    "        image= cv2.cvtColor(image, cv2.COLOR_BGR2RGB)\n",
    "        image= cv2.resize(image, (img_width,img_height))\n",
    "        test_data[counter] = image[:]\n",
    "        label= directory.split('/')[6]\n",
    "        label= class_label[label]\n",
    "        test_label[counter]= label\n",
    "        print(\"test files {} / {}\". format(counter, test_count))\n",
    "        counter+=1\n"
   ]
  },
  {
   "cell_type": "code",
   "execution_count": null,
   "metadata": {
    "id": "XYwghmC6Fb16"
   },
   "outputs": [],
   "source": [
    "\n",
    "!rm -r train\n",
    "!rm -r test\n",
    "\n"
   ]
  },
  {
   "cell_type": "code",
   "execution_count": 1,
   "metadata": {
    "id": "--Q4uiwSOOl6"
   },
   "outputs": [],
   "source": [
    "import os\n",
    "import shutil\n",
    "import cv2\n",
    "import numpy as np\n",
    "from sklearn.model_selection import train_test_split\n",
    "from tensorflow.keras.utils import to_categorical\n",
    "\n",
    "class_label= {\"GON\":0, \"Healthy\": 1, \"NGOP\": 2}\n",
    "path= \"/.../FundasDataset/classification/\"\n",
    "\n",
    "all_samples= []\n",
    "samples_label= []\n",
    "for dir_path, subdirs, files in os.walk(path):\n",
    "    for name in files:\n",
    "        all_samples.append(dir_path)\n",
    "samples= list(dict.fromkeys(all_samples))\n",
    "for i in range(len(samples)):\n",
    "    label= samples[i].split('/')[-2]\n",
    "    label= class_label[label]\n",
    "    samples_label.append(label)"
   ]
  },
  {
   "cell_type": "markdown",
   "metadata": {
    "id": "Z_jO39OmEsUm"
   },
   "source": [
    "# **Split test , train**"
   ]
  },
  {
   "cell_type": "code",
   "execution_count": 43,
   "metadata": {
    "colab": {
     "base_uri": "https://localhost:8080/"
    },
    "id": "WY8oaeNj5x-I",
    "outputId": "395dfd41-90ed-48d4-fcf4-14f107116313"
   },
   "outputs": [
    {
     "name": "stdout",
     "output_type": "stream",
     "text": [
      "copy valid file 227/228"
     ]
    }
   ],
   "source": [
    "import os\n",
    "import shutil\n",
    "import sys\n",
    "import cv2\n",
    "import pandas as pd\n",
    "import numpy as np\n",
    "from sklearn.model_selection import train_test_split\n",
    "from tensorflow.keras.utils import to_categorical\n",
    "\n",
    "def make_directory(dir_path):\n",
    "    if not(os.path.isdir(dir_path)):\n",
    "        os.mkdir(dir_path)\n",
    "\n",
    "class_label_dict= {\"GON\":0, \"Healthy\": 1, \"NGOP\": 2}\n",
    "class_label= [\"GON\", \"Healthy\", \"NGOP\"]\n",
    "path= \"/.../FundasDataset/classification/\"\n",
    "\n",
    "all_samples= []\n",
    "for dir_path, subdirs, files in os.walk(path):\n",
    "    for name in files:\n",
    "        all_samples.append(dir_path)\n",
    "samples= list(dict.fromkeys(all_samples))\n",
    "train_data, test_data = train_test_split(samples, test_size=0.2, random_state=42)\n",
    "\n",
    "!rm -r train\n",
    "!rm -r test\n",
    "!rm -r valid\n",
    "\n",
    "for root in [\"train/\", \"valid/\", \"test/\"]:\n",
    "    make_directory(root)\n",
    "    for label in class_label:\n",
    "        make_directory(root+label)\n",
    "\n",
    "################################\n",
    "#copy test files and create dataframe\n",
    "x_test= []\n",
    "y_test= []\n",
    "counter= 1\n",
    "for directory in test_data:\n",
    "    sub_files= os.listdir(directory)\n",
    "    for f in sub_files:\n",
    "        files= directory.split('/')\n",
    "        x_test.append('test/' + files[-2] + '/' + f)\n",
    "        y_test.append(class_label_dict[files[-2]])\n",
    "        shutil.copy(os.path.join(directory, f), 'test/' + files[-2] + '/' + f)\n",
    "        sys.stdout.write('\\r')\n",
    "        sys.stdout.write(\"\\rcopy test file {}/{}\".format(counter, len(test_data)))\n",
    "        sys.stdout.flush()\n",
    "    counter+=1\n",
    "test_df = pd.DataFrame(list(zip(x_test, y_test)), columns =['filename', 'label'])\n",
    "\n",
    "print(\"\\n\\n\")\n",
    "#split train and valid data\n",
    "samples_without_test= []\n",
    "for directory in train_data:\n",
    "    sub_files= os.listdir(directory)\n",
    "    for f in sub_files:\n",
    "        label= directory.split('/')\n",
    "        x_train.append(label[-2] + '/' + f)\n",
    "        samples_without_test.append(directory + '/' + f)\n",
    "train_data, valid_data = train_test_split(samples_without_test, test_size=0.2, random_state=42)\n",
    "\n",
    "print(\"\\n\\n\")\n",
    "#copy train data into file and create dataframe\n",
    "x_train= []\n",
    "y_train= []\n",
    "counter= 0\n",
    "for f in train_data:\n",
    "    file_name= f.split('/')\n",
    "    x_train.append('train/' + file_name[-3] + '/' + file_name[-1])\n",
    "    y_train.append(class_label_dict[file_name[-3]])\n",
    "    shutil.copy(os.path.join(directory, f), 'train/' + file_name[-3] + '/' + file_name[-1])\n",
    "    sys.stdout.write('\\r')\n",
    "    sys.stdout.write(\"\\rcopy train file {}/{}\".format(counter, len(train_data)))\n",
    "    sys.stdout.flush()\n",
    "    counter+=1\n",
    "train_df = pd.DataFrame(list(zip(x_train, y_train)), columns =['filename', 'label'])\n",
    "\n",
    "#copy validation data into file and create dataframe\n",
    "x_valid= []\n",
    "y_valid= []\n",
    "counter= 0\n",
    "for f in valid_data:\n",
    "    file_name= f.split('/')\n",
    "    x_valid.append('valid/' + file_name[-3] + '/' + file_name[-1])\n",
    "    y_valid.append(class_label_dict[file_name[-3]])\n",
    "    shutil.copy(os.path.join(directory, f), 'valid/' + file_name[-3] + '/' + file_name[-1])\n",
    "    sys.stdout.write('\\r')\n",
    "    sys.stdout.write(\"\\rcopy valid file {}/{}\".format(counter, len(valid_data)))\n",
    "    sys.stdout.flush()\n",
    "    counter+=1\n",
    "valid_df = pd.DataFrame(list(zip(x_valid, y_valid)), columns =['filename', 'label'])"
   ]
  },
  {
   "cell_type": "markdown",
   "metadata": {},
   "source": [
    "# Data Augmentation"
   ]
  },
  {
   "cell_type": "code",
   "execution_count": null,
   "metadata": {
    "colab": {
     "base_uri": "https://localhost:8080/"
    },
    "id": "_i5GhjAOClpm",
    "outputId": "c46f0142-4b4b-412a-c20f-b45352b34239"
   },
   "outputs": [
    {
     "name": "stdout",
     "output_type": "stream",
     "text": [
      "Found 1146 validated image filenames belonging to 3 classes.\n",
      "Found 289 validated image filenames belonging to 3 classes.\n"
     ]
    }
   ],
   "source": [
    "from keras.preprocessing.image import ImageDataGenerator\n",
    "\n",
    "class_label= [\"GON\", \"Healthy\", \"NGOP\"]\n",
    "\n",
    "\n",
    "train_datagen= ImageDataGenerator(rescale = 1./255,\n",
    "                                   shear_range = 0.2,\n",
    "                                   zoom_range = 0.2,\n",
    "                                   horizontal_flip = True)\n",
    "training_set= train_datagen.flow_from_dataframe(train_df,\n",
    "                                                x_col='filename',\n",
    "                                                y_col='label',\n",
    "                                                batch_size = 32,\n",
    "                                                target_size=(128, 128),\n",
    "                                                # classes=class_label,\n",
    "                                                class_mode='categorical')\n",
    "\n",
    "valid_datagen= ImageDataGenerator(rescale = 1./255)\n",
    "valid_set= valid_datagen.flow_from_dataframe(valid_df,\n",
    "                                           x_col='filename',\n",
    "                                           y_col='label',\n",
    "                                           batch_size = 32,\n",
    "                                           target_size=(128, 128),\n",
    "                                           # classes=class_label,\n",
    "                                           class_mode='categorical')\n"
   ]
  }
 ],
 "metadata": {
  "colab": {
   "collapsed_sections": [],
   "name": "Classification.ipynb",
   "provenance": []
  },
  "kernelspec": {
   "display_name": "Python 3",
   "language": "python",
   "name": "python3"
  },
  "language_info": {
   "codemirror_mode": {
    "name": "ipython",
    "version": 3
   },
   "file_extension": ".py",
   "mimetype": "text/x-python",
   "name": "python",
   "nbconvert_exporter": "python",
   "pygments_lexer": "ipython3",
   "version": "3.6.13"
  }
 },
 "nbformat": 4,
 "nbformat_minor": 1
}
